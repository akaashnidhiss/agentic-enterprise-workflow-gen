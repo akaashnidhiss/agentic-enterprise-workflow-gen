{
 "cells": [
  {
   "cell_type": "code",
   "execution_count": 1,
   "id": "93905a97",
   "metadata": {},
   "outputs": [
    {
     "name": "stdout",
     "output_type": "stream",
     "text": [
      "FAIL FAIL: Found 1 events with unknown users.\n",
      "```python\n",
      "import os\n",
      "import pandas as pd\n",
      "\n",
      "DATA_DIR = os.getenv(\"DATA_DIR\", \"./data\")\n",
      "\n",
      "# Load users\n",
      "users = pd.read_csv(f\"{DATA_DIR}/users.csv\", usecols=[\"user_id\"])\n",
      "\n",
      "# Load orders (has user_id and event_id)\n",
      "orders = pd.read_csv(f\"{DATA_DIR}/orders.csv\", usecols=[\"order_id\", \"user_id\", \"event_id\"])\n",
      "\n",
      "# Find user_ids in orders not present in users\n",
      "user_ids_users = set(users[\"user_id\"])\n",
      "orders_missing_users = orders[~orders[\"user_id\"].isin(user_ids_users)]\n",
      "\n",
      "# Find unique event_ids linked to missing user_ids\n",
      "event_ids_with_unknown_users = orders_missing_users[\"event_id\"].unique()\n",
      "\n",
      "# Load events\n",
      "events = pd.read_csv(f\"{DATA_DIR}/events.csv\", usecols=[\"event_id\"])\n",
      "\n",
      "# Count events that have unknown user_ids via orders\n",
      "events_with_unknown_users = events[events[\"event_id\"].isin(event_ids_with_unknown_users)]\n",
      "\n",
      "count_unknown_user_events = len(events_with_unknown_users)\n",
      "\n",
      "# Prepare summary and status:\n",
      "if count_unknown_user_events == 0:\n",
      "    print(f\"PASS: No events with unknown users found. Count=0\")\n",
      "else:\n",
      "    print(f\"FAIL: Found {count_unknown_user_events} events with unknown users.\")\n",
      "\n",
      "```\n",
      "\n"
     ]
    }
   ],
   "source": [
    "from execute_agent import execute\n",
    "\n",
    "schema_cols = {\n",
    "    \"orders\": [\"order_id\",\"user_id\",\"event_id\",\"quantity\",\"price\",\"created_at\"],\n",
    "    \"users\":  [\"user_id\",\"email\",\"signup_at\"],\n",
    "    \"events\": [\"event_id\",\"name\",\"category\",\"start_time\"]\n",
    "}\n",
    "\n",
    "check_row = {\n",
    "    \"check_id\": \"CHK-002\",\n",
    "    \"check_name\": \"Unknown users in events\",\n",
    "    \"target_table\": \"events,users\",\n",
    "    \"calculation_hint\": \"Flag events rows whose user_id is missing from users.\"\n",
    "}\n",
    "\n",
    "plan_artifact = {\n",
    "    \"steps\": [],\n",
    "    \"ai_table_summaries\": {},\n",
    "    \"dir_list\": [\"data/orders.csv\",\"data/users.csv\",\"data/events.csv\"],\n",
    "    \"output_contract\": {\"format\":\"single_line\",\"fields\":[\"status\",\"summary\"]}\n",
    "}\n",
    "\n",
    "out = execute(\n",
    "    prompt=\"Check for events having user_id not present in users.user_id and report count. Use event_id as the common keys between events and users.\",\n",
    "    check_row=check_row,\n",
    "    schema_cols=schema_cols,\n",
    "    plan_artifact=plan_artifact,\n",
    "    model_name=\"gpt-4.1-mini\",\n",
    "    save_path=\"./cached_mem/unknown_users_summary.txt\",\n",
    ")\n",
    "\n",
    "print(out[\"result\"][\"status\"], out[\"result\"][\"summary\"])\n",
    "print(out[\"python_repls\"][0][\"python_repl\"])\n"
   ]
  },
  {
   "cell_type": "code",
   "execution_count": 6,
   "id": "f57b8a56",
   "metadata": {},
   "outputs": [
    {
     "data": {
      "text/plain": [
       "{'python_repls': [{'python_repl': '```python\\nimport os\\nimport pandas as pd\\n\\nDATA_DIR = os.getenv(\"DATA_DIR\", \"./data\")\\n\\n# Load users\\nusers = pd.read_csv(f\"{DATA_DIR}/users.csv\", usecols=[\"user_id\"])\\n\\n# Load orders (has user_id and event_id)\\norders = pd.read_csv(f\"{DATA_DIR}/orders.csv\", usecols=[\"order_id\", \"user_id\", \"event_id\"])\\n\\n# Find user_ids in orders not present in users\\nuser_ids_users = set(users[\"user_id\"])\\norders_missing_users = orders[~orders[\"user_id\"].isin(user_ids_users)]\\n\\n# Find unique event_ids linked to missing user_ids\\nevent_ids_with_unknown_users = orders_missing_users[\"event_id\"].unique()\\n\\n# Load events\\nevents = pd.read_csv(f\"{DATA_DIR}/events.csv\", usecols=[\"event_id\"])\\n\\n# Count events that have unknown user_ids via orders\\nevents_with_unknown_users = events[events[\"event_id\"].isin(event_ids_with_unknown_users)]\\n\\ncount_unknown_user_events = len(events_with_unknown_users)\\n\\n# Prepare summary and status:\\nif count_unknown_user_events == 0:\\n    print(f\"PASS: No events with unknown users found. Count=0\")\\nelse:\\n    print(f\"FAIL: Found {count_unknown_user_events} events with unknown users.\")\\n\\n```\\n',\n",
       "   'stdout': '',\n",
       "   'exit_code': 1},\n",
       "  {'python_repl': '```python\\nimport os\\nimport pandas as pd\\n\\nDATA_DIR = os.getenv(\"DATA_DIR\", \"./data\")\\n\\n# Load events without any usecols and print columns\\nevents = pd.read_csv(f\"{DATA_DIR}/events.csv\")\\nprint(\"EVENTS columns:\", list(events.columns))\\n```\\n',\n",
       "   'stdout': \"EVENTS columns: ['event_id', 'event_date', 'user_id', 'event_type', 'metadata']\",\n",
       "   'exit_code': 0},\n",
       "  {'python_repl': '```python\\nimport os\\nimport pandas as pd\\n\\nDATA_DIR = os.getenv(\"DATA_DIR\", \"./data\")\\n\\nusers = pd.read_csv(f\"{DATA_DIR}/users.csv\", usecols=[\"user_id\"])\\nevents = pd.read_csv(f\"{DATA_DIR}/events.csv\", usecols=[\"event_id\", \"user_id\"])\\n\\nuser_ids_set = set(users[\"user_id\"])\\nevents_with_unknown_users = events[~events[\"user_id\"].isin(user_ids_set)]\\n\\ncount_unknown = len(events_with_unknown_users)\\n\\nif count_unknown == 0:\\n    print(f\"PASS: No events with unknown users found. Count=0\")\\nelse:\\n    print(f\"FAIL: Found {count_unknown} events with unknown users.\")\\n```\\n',\n",
       "   'stdout': 'FAIL: Found 1 events with unknown users.',\n",
       "   'exit_code': 0}],\n",
       " 'result': {'status': 'FAIL',\n",
       "  'summary': 'FAIL: Found 1 events with unknown users.',\n",
       "  'raw_stdout': 'FAIL: Found 1 events with unknown users.'}}"
      ]
     },
     "execution_count": 6,
     "metadata": {},
     "output_type": "execute_result"
    }
   ],
   "source": [
    "out"
   ]
  },
  {
   "cell_type": "code",
   "execution_count": 5,
   "id": "7c19a18c",
   "metadata": {},
   "outputs": [
    {
     "name": "stdout",
     "output_type": "stream",
     "text": [
      "import os\n",
      "import pandas as pd\n",
      "\n",
      "DATA_DIR = os.getenv(\"DATA_DIR\", \"./data\")\n",
      "\n",
      "# Load users\n",
      "users = pd.read_csv(f\"{DATA_DIR}/users.csv\", usecols=[\"user_id\"])\n",
      "\n",
      "# Load orders (has user_id and event_id)\n",
      "orders = pd.read_csv(f\"{DATA_DIR}/orders.csv\", usecols=[\"order_id\", \"user_id\", \"event_id\"])\n",
      "\n",
      "# Find user_ids in orders not present in users\n",
      "user_ids_users = set(users[\"user_id\"])\n",
      "orders_missing_users = orders[~orders[\"user_id\"].isin(user_ids_users)]\n",
      "\n",
      "# Find unique event_ids linked to missing user_ids\n",
      "event_ids_with_unknown_users = orders_missing_users[\"event_id\"].unique()\n",
      "\n",
      "# Load events\n",
      "events = pd.read_csv(f\"{DATA_DIR}/events.csv\", usecols=[\"event_id\"])\n",
      "\n",
      "# Count events that have unknown user_ids via orders\n",
      "events_with_unknown_users = events[events[\"event_id\"].isin(event_ids_with_unknown_users)]\n",
      "\n",
      "count_unknown_user_events = len(events_with_unknown_users)\n",
      "\n",
      "# Prepare summary and status:\n",
      "if count_unknown_user_events == 0:\n",
      "    print(f\"PASS: No events with unknown users found. Count=0\")\n",
      "else:\n",
      "    print(f\"FAIL: Found {count_unknown_user_events} events with unknown users.\")\n"
     ]
    }
   ],
   "source": [
    "string_output = out[\"python_repls\"][0]['python_repl']\n",
    "string_output = string_output.replace(\"```python\", \"\").replace(\"```\", \"\").strip()\n",
    "print((string_output))"
   ]
  },
  {
   "cell_type": "code",
   "execution_count": 3,
   "id": "d13c6cdf",
   "metadata": {},
   "outputs": [
    {
     "name": "stdout",
     "output_type": "stream",
     "text": [
      "```python\n",
      "import os\n",
      "import pandas as pd\n",
      "\n",
      "DATA_DIR = os.getenv(\"DATA_DIR\", \"./data\")\n",
      "\n",
      "# Load users\n",
      "users = pd.read_csv(f\"{DATA_DIR}/users.csv\", usecols=[\"user_id\"])\n",
      "\n",
      "# Load orders (has user_id and event_id)\n",
      "orders = pd.read_csv(f\"{DATA_DIR}/orders.csv\", usecols=[\"order_id\", \"user_id\", \"event_id\"])\n",
      "\n",
      "# Find user_ids in orders not present in users\n",
      "user_ids_users = set(users[\"user_id\"])\n",
      "orders_missing_users = orders[~orders[\"user_id\"].isin(user_ids_users)]\n",
      "\n",
      "# Find unique event_ids linked to missing user_ids\n",
      "event_ids_with_unknown_users = orders_missing_users[\"event_id\"].unique()\n",
      "\n",
      "# Load events\n",
      "events = pd.read_csv(f\"{DATA_DIR}/events.csv\", usecols=[\"event_id\"])\n",
      "\n",
      "# Count events that have unknown user_ids via orders\n",
      "events_with_unknown_users = events[events[\"event_id\"].isin(event_ids_with_unknown_users)]\n",
      "\n",
      "count_unknown_user_events = len(events_with_unknown_users)\n",
      "\n",
      "# Prepare summary and status:\n",
      "if count_unknown_user_events == 0:\n",
      "    print(f\"PASS: No events with unknown users found. Count=0\")\n",
      "else:\n",
      "    print(f\"FAIL: Found {count_unknown_user_events} events with unknown users.\")\n",
      "\n",
      "```\n",
      "\n"
     ]
    }
   ],
   "source": [
    "print(out[\"python_repls\"][0]['python_repl'])"
   ]
  }
 ],
 "metadata": {
  "kernelspec": {
   "display_name": "Python 3",
   "language": "python",
   "name": "python3"
  },
  "language_info": {
   "codemirror_mode": {
    "name": "ipython",
    "version": 3
   },
   "file_extension": ".py",
   "mimetype": "text/x-python",
   "name": "python",
   "nbconvert_exporter": "python",
   "pygments_lexer": "ipython3",
   "version": "3.12.8"
  }
 },
 "nbformat": 4,
 "nbformat_minor": 5
}
